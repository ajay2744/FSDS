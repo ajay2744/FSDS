{
 "cells": [
  {
   "cell_type": "code",
   "execution_count": 8,
   "id": "c68a5a97",
   "metadata": {},
   "outputs": [
    {
     "name": "stdout",
     "output_type": "stream",
     "text": [
      "enter number to find its factorial:\n",
      "3\n",
      "factorial is: 6\n"
     ]
    }
   ],
   "source": [
    "#1.\tWrite a Python Program to Find the Factorial of a Number\n",
    "print(\"enter number to find its factorial:\")\n",
    "a=int(input())\n",
    "fact=1\n",
    "for i in range(1,a+1):\n",
    "    fact=fact*i   \n",
    "print(\"factorial is:\",fact)\n",
    "    "
   ]
  },
  {
   "cell_type": "code",
   "execution_count": null,
   "id": "95c2adad",
   "metadata": {},
   "outputs": [],
   "source": [
    "#2.\tWrite a Python Program to Display the multiplication Table\n",
    "print(\"enter the number for its multiplication table:\")\n",
    "c=int(input())\n",
    "for i in range(1,11):\n",
    "    print(\"{}X{}={}\".format(i,c,c*i))"
   ]
  },
  {
   "cell_type": "code",
   "execution_count": 8,
   "id": "64049f7b",
   "metadata": {},
   "outputs": [
    {
     "name": "stdout",
     "output_type": "stream",
     "text": [
      "Here is the fibonacci sequence:\n",
      "0 1 1 2 3 5 8 13 21 34 55 89 144 233 377 610 987 1597 2584 4181 6765 10946 17711 28657 46368 75025 121393 196418 317811 514229 832040 1346269 2178309 3524578 5702887 9227465 14930352 24157817 39088169 63245986 "
     ]
    }
   ],
   "source": [
    "#3.\tWrite a Python Program to Print the Fibonacci sequence\n",
    "a=0\n",
    "b=1\n",
    "print(\"Here is the fibonacci sequence:\")\n",
    "for i  in range(20):\n",
    "    print(a,b,end=\" \")\n",
    "    a=a+b\n",
    "    b=a+b\n",
    "    \n",
    "    "
   ]
  },
  {
   "cell_type": "code",
   "execution_count": 8,
   "id": "b67ce2fd",
   "metadata": {},
   "outputs": [
    {
     "name": "stdout",
     "output_type": "stream",
     "text": [
      "enter three digit number to check if it is Armstrong number:\n",
      "153\n",
      "its an armstrong number\n"
     ]
    }
   ],
   "source": [
    "#4.\tWrite a Python Program to Check Armstrong Number\n",
    "print(\"enter three digit number to check if it is Armstrong number:\")\n",
    "d=int(input())\n",
    "o=d%10\n",
    "nxt=int(d/10)\n",
    "t=nxt%10\n",
    "nxt=int(nxt/10)\n",
    "h=nxt%10\n",
    "arm=(h**3)+(t**3)+(o**3)\n",
    "\n",
    "if arm==d:\n",
    "    print(\"its an armstrong number\")\n",
    "else:\n",
    "    print(\"its not an armstrong number\")\n",
    "\n"
   ]
  },
  {
   "cell_type": "code",
   "execution_count": 12,
   "id": "beff17e4",
   "metadata": {},
   "outputs": [
    {
     "name": "stdout",
     "output_type": "stream",
     "text": [
      "enter an interval for finding armstrong numbers in between:\n",
      "enter starting number in the range of interval:\n",
      "1\n",
      "enter last number in the range of interval:\n",
      "1000\n",
      "[1, 153, 370, 371, 407]\n"
     ]
    }
   ],
   "source": [
    "#5.\tWrite a Python Program to Find Armstrong Number in an Interval?\n",
    "print(\"enter an interval for finding armstrong numbers in between:\")\n",
    "print(\"enter starting number in the range of interval:\")\n",
    "f=int(input())\n",
    "print(\"enter last number in the range of interval:\")\n",
    "l=int(input())\n",
    "armst=[]\n",
    "for i in range(f,l):\n",
    "    o=i%10\n",
    "    nxt=int(i/10)\n",
    "    t=nxt%10\n",
    "    nxt=int(nxt/10)\n",
    "    h=nxt%10\n",
    "    arm=(h**3)+(t**3)+(o**3)\n",
    "    \n",
    "    if arm==i:\n",
    "        armst.append(i)\n",
    "print(armst)        \n",
    "    "
   ]
  },
  {
   "cell_type": "code",
   "execution_count": 16,
   "id": "63815916",
   "metadata": {},
   "outputs": [
    {
     "name": "stdout",
     "output_type": "stream",
     "text": [
      "Enter a natural number to find the sum upto which required:\n",
      "25\n",
      "The sum of natural numbers is: 325\n"
     ]
    }
   ],
   "source": [
    "#6.\tWrite a Python Program to Find the Sum of Natural Numbers?\n",
    "print(\"Enter a natural number to find the sum upto which required:\")\n",
    "g=int(input())\n",
    "sum=0\n",
    "for i in range(g+1):\n",
    "        sum=sum+i\n",
    "print(\"The sum of natural numbers is:\",sum)"
   ]
  },
  {
   "cell_type": "code",
   "execution_count": null,
   "id": "e5a3844c",
   "metadata": {},
   "outputs": [],
   "source": []
  }
 ],
 "metadata": {
  "kernelspec": {
   "display_name": "Python 3 (ipykernel)",
   "language": "python",
   "name": "python3"
  },
  "language_info": {
   "codemirror_mode": {
    "name": "ipython",
    "version": 3
   },
   "file_extension": ".py",
   "mimetype": "text/x-python",
   "name": "python",
   "nbconvert_exporter": "python",
   "pygments_lexer": "ipython3",
   "version": "3.9.7"
  }
 },
 "nbformat": 4,
 "nbformat_minor": 5
}
