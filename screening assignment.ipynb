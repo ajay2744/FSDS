{
 "cells": [
  {
   "cell_type": "code",
   "execution_count": 7,
   "id": "01860d7f",
   "metadata": {},
   "outputs": [
    {
     "data": {
      "text/plain": [
       "28"
      ]
     },
     "execution_count": 7,
     "metadata": {},
     "output_type": "execute_result"
    }
   ],
   "source": [
    "#Create a function in python to read the text file and replace specific content\n",
    "#of the file.\n",
    "\n",
    "f=open(\"example.txt\",\"w+\")\n",
    "f.write(\"This is placement assignment\")\n",
    "\n"
   ]
  },
  {
   "cell_type": "code",
   "execution_count": 8,
   "id": "77f8f614",
   "metadata": {},
   "outputs": [
    {
     "data": {
      "text/plain": [
       "'This is screening assignment'"
      ]
     },
     "execution_count": 8,
     "metadata": {},
     "output_type": "execute_result"
    }
   ],
   "source": [
    "#replacing placement with screening\n",
    "f.seek(0)\n",
    "content=f.read()\n",
    "content=content.replace('placement','screening')\n",
    "f.seek(0)\n",
    "f.write(content)\n",
    "f.seek(0)\n",
    "f.read()\n"
   ]
  },
  {
   "cell_type": "code",
   "execution_count": 111,
   "id": "a77278c3",
   "metadata": {},
   "outputs": [],
   "source": [
    "f.close()"
   ]
  },
  {
   "cell_type": "code",
   "execution_count": 54,
   "id": "56d979cf",
   "metadata": {},
   "outputs": [
    {
     "name": "stdout",
     "output_type": "stream",
     "text": [
      "I have 2 wheels\n",
      "I have 3 wheels\n",
      "I have 4 wheels\n"
     ]
    }
   ],
   "source": [
    "#An abstract class can be considered as a blue print of other classes. It contains abstract method declaration but not the\n",
    "#implementation.The child classes derived from the abstract parent class will have the method implementation.while we use \n",
    "#large functional units we use abstract class where a common method requires different implementation depending on the \n",
    "#requirement. Example is mentioned below\n",
    "\n",
    "\n",
    "from abc import ABC\n",
    "class vehicle(ABC):\n",
    "    def no_wheels():\n",
    "        pass\n",
    "class bike(vehicle):\n",
    "    def no_wheels(self):\n",
    "        print('I have 2 wheels')\n",
    "class auto(vehicle):\n",
    "    def no_wheels(self):\n",
    "        print(\"I have 3 wheels\")\n",
    "class car(vehicle):\n",
    "    def no_wheels(self):\n",
    "        print(\"I have 4 wheels\")\n",
    "b=bike()\n",
    "b.no_wheels()\n",
    "a=auto()\n",
    "a.no_wheels()\n",
    "c=car()\n",
    "c.no_wheels()\n",
    "\n",
    "        "
   ]
  },
  {
   "cell_type": "code",
   "execution_count": 59,
   "id": "b230d074",
   "metadata": {},
   "outputs": [
    {
     "name": "stdout",
     "output_type": "stream",
     "text": [
      "i am function1\n",
      "i am function2\n",
      "i am function3\n",
      "i am function4\n"
     ]
    }
   ],
   "source": [
    "#MULTIPLE INHERITANCE\n",
    "#Multiple inheritance is used for using the methods implemented in other classes(say parent classes).\n",
    "class class1():\n",
    "    def f1(self):\n",
    "        print('i am function1')\n",
    "class class2(class1):\n",
    "    def f2(self):\n",
    "        print('i am function2')\n",
    "class class3(class1):\n",
    "    def f3(self):\n",
    "        print('i am function3')\n",
    "class class4(class2,class3):\n",
    "    def f4(self):\n",
    "        print('i am function4')\n",
    "obj=class4()\n",
    "obj.f1()\n",
    "obj.f2()\n",
    "obj.f3()\n",
    "obj.f4()\n",
    "    #here f1 method is inherited from instance of class 4 via class 2 to class1 method\n",
    "    "
   ]
  },
  {
   "cell_type": "code",
   "execution_count": 70,
   "id": "f2a901de",
   "metadata": {},
   "outputs": [
    {
     "name": "stdout",
     "output_type": "stream",
     "text": [
      "Divide num x with num y\n",
      "2.0\n"
     ]
    }
   ],
   "source": [
    "#DECORATORS\n",
    "#Decorators allows to enhance the use of one function using other function over it, which uses @ symbol \n",
    "#for the implementation \n",
    "\n",
    "def deco_exception(func):\n",
    "    def inner(x,y):\n",
    "        print(\"Divide num x with num y\")\n",
    "        if y==0:\n",
    "            print(\"its zero division error\")\n",
    "            return\n",
    "        return func(x,y)\n",
    "    return inner\n",
    "\n",
    "@deco_exception\n",
    "def division(a,b):\n",
    "    print(a/b)\n",
    "\n",
    "    \n",
    "division(6,3)\n",
    "\n",
    "\n",
    "\n",
    "#Here by calling the function division we also got the output from the execution through the decorator as it is mentioned \n",
    "#implementation\n",
    "#with out using @deco_exception we can use as division=deco_exception(division) which works same as the implementation \n",
    "#mentioned above\n"
   ]
  },
  {
   "cell_type": "code",
   "execution_count": null,
   "id": "f3429cd4",
   "metadata": {},
   "outputs": [],
   "source": []
  }
 ],
 "metadata": {
  "kernelspec": {
   "display_name": "Python 3 (ipykernel)",
   "language": "python",
   "name": "python3"
  },
  "language_info": {
   "codemirror_mode": {
    "name": "ipython",
    "version": 3
   },
   "file_extension": ".py",
   "mimetype": "text/x-python",
   "name": "python",
   "nbconvert_exporter": "python",
   "pygments_lexer": "ipython3",
   "version": "3.9.7"
  }
 },
 "nbformat": 4,
 "nbformat_minor": 5
}
