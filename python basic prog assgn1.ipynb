{
 "cells": [
  {
   "cell_type": "code",
   "execution_count": 2,
   "id": "e0f81320",
   "metadata": {},
   "outputs": [
    {
     "name": "stdout",
     "output_type": "stream",
     "text": [
      "'Hello python'\n"
     ]
    }
   ],
   "source": [
    "#1. Write a Python program to print &quot;Hello Python&quot;?\n",
    "print(\"'Hello python'\")"
   ]
  },
  {
   "cell_type": "code",
   "execution_count": 7,
   "id": "9c78614c",
   "metadata": {},
   "outputs": [
    {
     "data": {
      "text/plain": [
       "30.0"
      ]
     },
     "execution_count": 7,
     "metadata": {},
     "output_type": "execute_result"
    }
   ],
   "source": [
    "#2.\tWrite a Python program to do arithmetical operations addition and division.?\n",
    "a=50\n",
    "b=10\n",
    "c=25\n",
    "a/b+c"
   ]
  },
  {
   "cell_type": "code",
   "execution_count": 14,
   "id": "cdf56c23",
   "metadata": {},
   "outputs": [
    {
     "name": "stdout",
     "output_type": "stream",
     "text": [
      "enter base width of triangle:1.5\n",
      "enter height of the triangle:4\n",
      "Area of triangle: 3.0\n"
     ]
    }
   ],
   "source": [
    "#3.\tWrite a Python program to find the area of a triangle?\n",
    "b=float(input(\"enter base width of triangle:\"))\n",
    "h=float(input(\"enter height of the triangle:\"))\n",
    "print(\"Area of triangle:\",0.5*b*h)"
   ]
  },
  {
   "cell_type": "code",
   "execution_count": 2,
   "id": "ade1e442",
   "metadata": {},
   "outputs": [
    {
     "name": "stdout",
     "output_type": "stream",
     "text": [
      "4\n",
      "value in a before swap is: 4\n",
      "5\n",
      "Value in b before swap is: 5\n",
      "value in a after swap: 5\n",
      "value in b after swap: 4\n"
     ]
    }
   ],
   "source": [
    "#4.\tWrite a Python program to swap two variables?\n",
    "a=input()\n",
    "print(\"value in a before swap is:\",a)\n",
    "b=input()\n",
    "print(\"Value in b before swap is:\",b)\n",
    "swap=b\n",
    "b=a\n",
    "a=swap\n",
    "print(\"value in a after swap:\",a)\n",
    "print(\"value in b after swap:\",b)"
   ]
  },
  {
   "cell_type": "code",
   "execution_count": 5,
   "id": "2601e2fa",
   "metadata": {},
   "outputs": [
    {
     "name": "stdout",
     "output_type": "stream",
     "text": [
      "Enter ur random number of choice:5\n",
      "Random number u have generated 5\n"
     ]
    }
   ],
   "source": [
    "#5.\tWrite a Python program to generate a random number?\n",
    "i=int(input(\"Enter ur random number of choice:\"))\n",
    "print(\"Random number u have generated:\",i)"
   ]
  },
  {
   "cell_type": "code",
   "execution_count": 3,
   "id": "452683e9",
   "metadata": {},
   "outputs": [
    {
     "data": {
      "text/plain": [
       "5"
      ]
     },
     "execution_count": 3,
     "metadata": {},
     "output_type": "execute_result"
    }
   ],
   "source": [
    "a"
   ]
  },
  {
   "cell_type": "code",
   "execution_count": null,
   "id": "6d7ed044",
   "metadata": {},
   "outputs": [],
   "source": []
  }
 ],
 "metadata": {
  "kernelspec": {
   "display_name": "Python 3 (ipykernel)",
   "language": "python",
   "name": "python3"
  },
  "language_info": {
   "codemirror_mode": {
    "name": "ipython",
    "version": 3
   },
   "file_extension": ".py",
   "mimetype": "text/x-python",
   "name": "python",
   "nbconvert_exporter": "python",
   "pygments_lexer": "ipython3",
   "version": "3.9.7"
  }
 },
 "nbformat": 4,
 "nbformat_minor": 5
}
