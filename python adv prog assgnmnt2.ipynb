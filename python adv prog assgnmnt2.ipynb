{
 "cells": [
  {
   "cell_type": "code",
   "execution_count": 7,
   "id": "f87c2dfe",
   "metadata": {},
   "outputs": [
    {
     "data": {
      "text/plain": [
       "141"
      ]
     },
     "execution_count": 7,
     "metadata": {},
     "output_type": "execute_result"
    }
   ],
   "source": [
    "#1. Write a function that takes a positive integer num and calculates how many dots exist in a pentagonal shape around the center dot on the Nth iteration.\n",
    "\n",
    "def pentagonal(n):\n",
    "    no_of_dots=0\n",
    "    while n>0:\n",
    "        temp=5+(5*(n-2))\n",
    "        no_of_dots=no_of_dots+temp\n",
    "        n-=1\n",
    "    return no_of_dots+1\n",
    "        \n",
    "        "
   ]
  },
  {
   "cell_type": "code",
   "execution_count": 8,
   "id": "27095646",
   "metadata": {},
   "outputs": [
    {
     "data": {
      "text/plain": [
       "141"
      ]
     },
     "execution_count": 8,
     "metadata": {},
     "output_type": "execute_result"
    }
   ],
   "source": [
    "pentagonal(8)"
   ]
  },
  {
   "cell_type": "code",
   "execution_count": 29,
   "id": "a8aa9d6f",
   "metadata": {},
   "outputs": [],
   "source": [
    "#Make a function that encrypts a given input with these steps:\n",
    "#Step 1: Reverse the input: \"elppa\"\n",
    "\n",
    "#Step 2: Replace all vowels using the following chart:\n",
    "\n",
    "#a => 0\n",
    "#e => 1\n",
    "#i => 2\n",
    "#o => 2\n",
    "#u => 3\n",
    "\n",
    "# \"1lpp0\"\n",
    "\n",
    "#Step 3: Add \"aca\" to the end of the word: \"1lpp0aca\"\n",
    "#7\"\"\"\n",
    "\n",
    "def encrypt(s):\n",
    "    rev=[]\n",
    "    rev_str=''\n",
    "    for i in s:\n",
    "        rev.append(i)\n",
    "    rev.reverse()\n",
    "    for j in rev:\n",
    "        rev_str=rev_str+j\n",
    "    rev_str=rev_str.replace('a','0')\n",
    "    rev_str=rev_str.replace('e','1')\n",
    "    rev_str=rev_str.replace('i','2')\n",
    "    rev_str=rev_str.replace('o','2')\n",
    "    rev_str=rev_str.replace('u','3')\n",
    "    result=rev_str+'aca'\n",
    "    return result\n",
    "    "
   ]
  },
  {
   "cell_type": "code",
   "execution_count": 30,
   "id": "59eaf739",
   "metadata": {},
   "outputs": [
    {
     "data": {
      "text/plain": [
       "'1lpp0aca'"
      ]
     },
     "execution_count": 30,
     "metadata": {},
     "output_type": "execute_result"
    }
   ],
   "source": [
    "encrypt('apple')"
   ]
  },
  {
   "cell_type": "code",
   "execution_count": 65,
   "id": "faaad6b4",
   "metadata": {},
   "outputs": [],
   "source": [
    "#3. Given the month and year as numbers, return whether that month contains a Friday 13th.(i.e You can check Python's datetime module)\n",
    "\n",
    "\n",
    "import datetime\n",
    "def has_fridy_13(month,year):\n",
    "    if (datetime.date(year,month,13).weekday())==4:\n",
    "        return True\n",
    "    else:\n",
    "        return False\n",
    "\n"
   ]
  },
  {
   "cell_type": "code",
   "execution_count": 67,
   "id": "43171a90",
   "metadata": {},
   "outputs": [
    {
     "data": {
      "text/plain": [
       "True"
      ]
     },
     "execution_count": 67,
     "metadata": {},
     "output_type": "execute_result"
    }
   ],
   "source": [
    "has_fridy_13(3,2020)"
   ]
  },
  {
   "cell_type": "code",
   "execution_count": 68,
   "id": "7877e7ec",
   "metadata": {},
   "outputs": [],
   "source": []
  },
  {
   "cell_type": "code",
   "execution_count": 50,
   "id": "19288f3e",
   "metadata": {},
   "outputs": [],
   "source": [
    "#5. Given a list of words in the singular form, return a set of those words in the plural form if they appear more than once in the list.\n",
    "\n",
    "def pluralize(l):\n",
    "    l1=[]\n",
    "    for i in l:\n",
    "        count=0\n",
    "        for  j in l:\n",
    "            if i==j:\n",
    "                count+=1\n",
    "        if count>=2:\n",
    "            l1.append(i+'s')\n",
    "        else:\n",
    "            l1.append(i)\n",
    "    return set(l1)\n",
    "            \n",
    "        \n",
    "            \n",
    "    \n",
    "            \n",
    "            \n",
    "            \n",
    "        \n",
    "            \n",
    "        \n",
    "        \n"
   ]
  },
  {
   "cell_type": "code",
   "execution_count": 51,
   "id": "71372587",
   "metadata": {},
   "outputs": [
    {
     "data": {
      "text/plain": [
       "{'cows', 'pig'}"
      ]
     },
     "execution_count": 51,
     "metadata": {},
     "output_type": "execute_result"
    }
   ],
   "source": [
    "pluralize([\"cow\", \"pig\", \"cow\", \"cow\"]) "
   ]
  },
  {
   "cell_type": "code",
   "execution_count": 52,
   "id": "575911c7",
   "metadata": {},
   "outputs": [
    {
     "data": {
      "text/plain": [
       "{'tables'}"
      ]
     },
     "execution_count": 52,
     "metadata": {},
     "output_type": "execute_result"
    }
   ],
   "source": [
    "pluralize([\"table\", \"table\", \"table\"])"
   ]
  },
  {
   "cell_type": "code",
   "execution_count": null,
   "id": "49d02028",
   "metadata": {},
   "outputs": [],
   "source": []
  },
  {
   "cell_type": "code",
   "execution_count": 99,
   "id": "34f7b8fc",
   "metadata": {},
   "outputs": [],
   "source": []
  },
  {
   "cell_type": "code",
   "execution_count": null,
   "id": "0ca004c8",
   "metadata": {},
   "outputs": [],
   "source": []
  },
  {
   "cell_type": "code",
   "execution_count": null,
   "id": "6d51659f",
   "metadata": {},
   "outputs": [],
   "source": []
  },
  {
   "cell_type": "code",
   "execution_count": null,
   "id": "a845070f",
   "metadata": {},
   "outputs": [],
   "source": []
  },
  {
   "cell_type": "code",
   "execution_count": null,
   "id": "5e49751b",
   "metadata": {},
   "outputs": [],
   "source": []
  },
  {
   "cell_type": "code",
   "execution_count": null,
   "id": "77aaf319",
   "metadata": {},
   "outputs": [],
   "source": []
  },
  {
   "cell_type": "code",
   "execution_count": null,
   "id": "403d1002",
   "metadata": {},
   "outputs": [],
   "source": []
  },
  {
   "cell_type": "code",
   "execution_count": null,
   "id": "7f0bd94a",
   "metadata": {},
   "outputs": [],
   "source": []
  }
 ],
 "metadata": {
  "kernelspec": {
   "display_name": "Python 3 (ipykernel)",
   "language": "python",
   "name": "python3"
  },
  "language_info": {
   "codemirror_mode": {
    "name": "ipython",
    "version": 3
   },
   "file_extension": ".py",
   "mimetype": "text/x-python",
   "name": "python",
   "nbconvert_exporter": "python",
   "pygments_lexer": "ipython3",
   "version": "3.9.7"
  }
 },
 "nbformat": 4,
 "nbformat_minor": 5
}
