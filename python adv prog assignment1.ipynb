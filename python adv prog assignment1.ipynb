{
 "cells": [
  {
   "cell_type": "code",
   "execution_count": 138,
   "id": "8620c18e",
   "metadata": {},
   "outputs": [],
   "source": [
    "#Write a function that takes a list of lists and returns the value of all of the symbols in it, where each symbol adds or takes something from the total score. Symbol values:\n",
    "\n",
    "\"\"\"{# = 5\n",
    "O = 3\n",
    "X = 1\n",
    "! = -1\n",
    "!! = -3\n",
    "!!! = -5}\"\"\"\n",
    "\n",
    "def check_score(l):\n",
    "    a=[]\n",
    "    for i in l:\n",
    "        a.extend(i)\n",
    "    for j in a:\n",
    "        if j==\"#\":\n",
    "            k=a.index(j)\n",
    "            a[k]=\"5\"\n",
    "        if j==\"O\":\n",
    "            k=a.index(j)\n",
    "            a[k]='3'\n",
    "        if j==\"X\":\n",
    "            k=a.index(j)\n",
    "            a[k]='1'\n",
    "        if j==\"!\":\n",
    "            k=a.index(j)\n",
    "            a[k]='-1'\n",
    "        if j==\"!!\":\n",
    "            k=a.index(j)\n",
    "            a[k]='-3'\n",
    "        if j==\"!!!\":\n",
    "            k=a.index(j)\n",
    "            a[k]='-5'\n",
    "    sum=0\n",
    "    for l in a:\n",
    "        sum=sum+int(l)\n",
    "    if sum>0:\n",
    "        return sum\n",
    "    else:\n",
    "        return 0\n",
    "            \n",
    "        \n",
    "        \n",
    "    \n",
    "\n",
    "    return sum\n",
    "        \n",
    "\n",
    "\n",
    "\n",
    "    \n",
    "        \n",
    "        \n",
    "            \n",
    "            \n",
    "    \n"
   ]
  },
  {
   "cell_type": "code",
   "execution_count": 139,
   "id": "ffa59d27",
   "metadata": {},
   "outputs": [
    {
     "data": {
      "text/plain": [
       "0"
      ]
     },
     "execution_count": 139,
     "metadata": {},
     "output_type": "execute_result"
    }
   ],
   "source": [
    "check_score([\n",
    "  [\"!!!\", \"O\", \"!\"],\n",
    "  [\"X\", \"#\", \"!!!\"],\n",
    "  [\"!!\", \"X\", \"O\"]\n",
    "])\n"
   ]
  },
  {
   "cell_type": "code",
   "execution_count": 152,
   "id": "6b8a4ba4",
   "metadata": {},
   "outputs": [],
   "source": [
    "#2. Create a function that takes a variable number of arguments, each argument representing the number of items in a group, and returns the number of permutations (combinations) of items that you could get by taking one item from each group.\n",
    "\n",
    "def combinations(*args):\n",
    "    result=1\n",
    "    \n",
    "    for i in args:\n",
    "        temp=factorial(i)/factorial(i-1)\n",
    "        result=result*temp\n",
    "    return result\n",
    "def permutations(*args):\n",
    "    result=1\n",
    "    for i in args:\n",
    "        temp=factorial(i)\n",
    "        result=temp*result\n",
    "    return result\n",
    "    \n",
    "def factorial(a):\n",
    "    fact=1\n",
    "    for i in range(1,a+1):\n",
    "        fact=fact*i\n",
    "    return fact\n",
    "        \n",
    "        "
   ]
  },
  {
   "cell_type": "code",
   "execution_count": 153,
   "id": "5429f97c",
   "metadata": {},
   "outputs": [
    {
     "data": {
      "text/plain": [
       "240"
      ]
     },
     "execution_count": 153,
     "metadata": {},
     "output_type": "execute_result"
    }
   ],
   "source": [
    "permutations(5,2)"
   ]
  },
  {
   "cell_type": "code",
   "execution_count": 168,
   "id": "748f2df7",
   "metadata": {},
   "outputs": [],
   "source": [
    "#3. Create a function that takes a string as an argument and returns the Morse code equivalent.\n",
    "\n",
    "char_to_dots = {\n",
    "  'A': '.-', 'B': '-...', 'C': '-.-.', 'D': '-..', 'E': '.', 'F': '..-.',\n",
    "  'G': '--.', 'H': '....', 'I': '..', 'J': '.---', 'K': '-.-', 'L': '.-..',\n",
    "  'M': '--', 'N': '-.', 'O': '---', 'P': '.--.', 'Q': '--.-', 'R': '.-.',\n",
    "  'S': '...', 'T': '-', 'U': '..-', 'V': '...-', 'W': '.--', 'X': '-..-',\n",
    "  'Y': '-.--', 'Z': '--..', ' ': ' ', '0': '-----',\n",
    "  '1': '.----', '2': '..---', '3': '...--', '4': '....-', '5': '.....',\n",
    "  '6': '-....', '7': '--...', '8': '---..', '9': '----.',\n",
    "  '&': '.-...', \"'\": '.----.', '@': '.--.-.', ')': '-.--.-', '(': '-.--.',\n",
    "  ':': '---...', ',': '--..--', '=': '-...-', '!': '-.-.--', '.': '.-.-.-',\n",
    "  '-': '-....-', '+': '.-.-.', '\"': '.-..-.', '?': '..--..', '/': '-..-.'\n",
    "}\n",
    "def encode_morse(s):\n",
    "    morse=\"\"\n",
    "    for i in s:\n",
    "        for j in char_to_dots.keys():\n",
    "            if i==j:\n",
    "                morse=morse+(char_to_dots[j])\n",
    "    return morse"
   ]
  },
  {
   "cell_type": "code",
   "execution_count": 172,
   "id": "3772b489",
   "metadata": {},
   "outputs": [
    {
     "data": {
      "text/plain": [
       "'......-...--. --. -.-.--'"
      ]
     },
     "execution_count": 172,
     "metadata": {},
     "output_type": "execute_result"
    }
   ],
   "source": [
    "encode_morse(\"HELP ME !\")"
   ]
  },
  {
   "cell_type": "code",
   "execution_count": 189,
   "id": "95c1aabc",
   "metadata": {},
   "outputs": [],
   "source": [
    "#4.  Write a function that takes a number and returns True if it's a prime; False otherwise. The number can be 2^64-1 (2 to the power of 63, not XOR). With the standard technique it would be O(2^64-1), which is much too large for the 10 second time limit.\n",
    "def prime_ornot(n):\n",
    "    count=0\n",
    "    for i in range(2,n):\n",
    "        if n%i==0:\n",
    "            return False\n",
    "        break\n",
    "        \n",
    "    return True\n",
    "        \n",
    "\n",
    "    \n",
    "\n",
    "            "
   ]
  },
  {
   "cell_type": "code",
   "execution_count": 190,
   "id": "14c69124",
   "metadata": {},
   "outputs": [
    {
     "data": {
      "text/plain": [
       "True"
      ]
     },
     "execution_count": 190,
     "metadata": {},
     "output_type": "execute_result"
    }
   ],
   "source": [
    "prime_ornot(56963)"
   ]
  },
  {
   "cell_type": "code",
   "execution_count": 266,
   "id": "c31f4453",
   "metadata": {},
   "outputs": [],
   "source": [
    "#5.  Create a function that converts a word to a bitstring and then to a boolean list based on the following criteria:\n",
    "def to_booleanlist(s):\n",
    "    lo=['a']\n",
    "    le=['b']\n",
    "    for i in range(12):\n",
    "        lo.append(chr(ord(lo[i])+2))\n",
    "        le.append(chr(ord(le[i])+2))\n",
    "    do={}\n",
    "    de={}\n",
    "    lo=tuple(lo)\n",
    "    le=tuple(le)\n",
    "    do=do.fromkeys(lo,True)\n",
    "\n",
    "    de=do.fromkeys(le,False)\n",
    "    result=[]\n",
    "    for j in s:\n",
    "        for l in de.keys():\n",
    "            if j==l:\n",
    "                result.append(de[l])\n",
    "        for m in do.keys():\n",
    "            if j==m:\n",
    "                result.append(do[m])\n",
    "            \n",
    "    return result\n",
    "        \n",
    "                \n",
    "        \n",
    "    \n",
    "        "
   ]
  },
  {
   "cell_type": "code",
   "execution_count": 270,
   "id": "c2a60da0",
   "metadata": {},
   "outputs": [
    {
     "data": {
      "text/plain": [
       "[False, True, True, False]"
      ]
     },
     "execution_count": 270,
     "metadata": {},
     "output_type": "execute_result"
    }
   ],
   "source": [
    "to_booleanlist(\"tesh\")"
   ]
  },
  {
   "cell_type": "code",
   "execution_count": 249,
   "id": "4a234432",
   "metadata": {},
   "outputs": [],
   "source": [
    "lo=['a']\n",
    "le=['b']\n",
    "for i in range(12):\n",
    "    lo.append(chr(ord(lo[i])+2))\n",
    "    le.append(chr(ord(le[i])+2))\n",
    "do={}\n",
    "de={}\n",
    "lo=tuple(lo)\n",
    "le=tuple(le)\n",
    "do=do.fromkeys(lo,True)\n",
    "\n",
    "de=de.fromkeys(le,False)\n",
    "\n",
    "\n",
    "\n",
    "    \n",
    "    "
   ]
  },
  {
   "cell_type": "code",
   "execution_count": 264,
   "id": "fb0fe72d",
   "metadata": {},
   "outputs": [],
   "source": [
    "lo=['a']\n",
    "le=['b']\n",
    "for i in range(12):\n",
    "    lo.append(chr(ord(lo[i])+2))\n",
    "    le.append(chr(ord(le[i])+2))\n",
    "    \n",
    "do={}\n",
    "lo=tuple(lo)\n",
    "le=tuple(le)\n",
    "do=do.fromkeys(lo,True)\n",
    "\n",
    "de=do.fromkeys(le,False)"
   ]
  },
  {
   "cell_type": "code",
   "execution_count": 265,
   "id": "31f10069",
   "metadata": {},
   "outputs": [
    {
     "data": {
      "text/plain": [
       "{'b': False,\n",
       " 'd': False,\n",
       " 'f': False,\n",
       " 'h': False,\n",
       " 'j': False,\n",
       " 'l': False,\n",
       " 'n': False,\n",
       " 'p': False,\n",
       " 'r': False,\n",
       " 't': False,\n",
       " 'v': False,\n",
       " 'x': False,\n",
       " 'z': False}"
      ]
     },
     "execution_count": 265,
     "metadata": {},
     "output_type": "execute_result"
    }
   ],
   "source": [
    "de"
   ]
  },
  {
   "cell_type": "code",
   "execution_count": 263,
   "id": "80880f1d",
   "metadata": {},
   "outputs": [
    {
     "data": {
      "text/plain": [
       "{'a': True,\n",
       " 'c': True,\n",
       " 'e': True,\n",
       " 'g': True,\n",
       " 'i': True,\n",
       " 'k': True,\n",
       " 'm': True,\n",
       " 'o': True,\n",
       " 'q': True,\n",
       " 's': True,\n",
       " 'u': True,\n",
       " 'w': True,\n",
       " 'y': True}"
      ]
     },
     "execution_count": 263,
     "metadata": {},
     "output_type": "execute_result"
    }
   ],
   "source": [
    "do"
   ]
  },
  {
   "cell_type": "code",
   "execution_count": 251,
   "id": "880c0389",
   "metadata": {},
   "outputs": [
    {
     "data": {
      "text/plain": [
       "{'b': False,\n",
       " 'd': False,\n",
       " 'f': False,\n",
       " 'h': False,\n",
       " 'j': False,\n",
       " 'l': False,\n",
       " 'n': False,\n",
       " 'p': False,\n",
       " 'r': False,\n",
       " 't': False,\n",
       " 'v': False,\n",
       " 'x': False,\n",
       " 'z': False}"
      ]
     },
     "execution_count": 251,
     "metadata": {},
     "output_type": "execute_result"
    }
   ],
   "source": [
    "de"
   ]
  },
  {
   "cell_type": "code",
   "execution_count": null,
   "id": "0c4b7536",
   "metadata": {},
   "outputs": [],
   "source": []
  }
 ],
 "metadata": {
  "kernelspec": {
   "display_name": "Python 3 (ipykernel)",
   "language": "python",
   "name": "python3"
  },
  "language_info": {
   "codemirror_mode": {
    "name": "ipython",
    "version": 3
   },
   "file_extension": ".py",
   "mimetype": "text/x-python",
   "name": "python",
   "nbconvert_exporter": "python",
   "pygments_lexer": "ipython3",
   "version": "3.9.7"
  }
 },
 "nbformat": 4,
 "nbformat_minor": 5
}
