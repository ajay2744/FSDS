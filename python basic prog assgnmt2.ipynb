{
 "cells": [
  {
   "cell_type": "code",
   "execution_count": 1,
   "id": "a05fd08e",
   "metadata": {},
   "outputs": [
    {
     "name": "stdout",
     "output_type": "stream",
     "text": [
      "Enter kilometers to be converted to miles:25\n",
      "Equivalent miles for kilometers entered is: 15.534275000000001\n"
     ]
    }
   ],
   "source": [
    "#1.\tWrite a Python program to convert kilometers to miles?\n",
    "k=float(input(\"Enter kilometers to be converted to miles:\"))\n",
    "print(\"Equivalent miles for kilometers entered is:\",0.621371*k)\n"
   ]
  },
  {
   "cell_type": "code",
   "execution_count": 7,
   "id": "cd0f001b",
   "metadata": {},
   "outputs": [
    {
     "name": "stdout",
     "output_type": "stream",
     "text": [
      "enter celsius temp for converting into farenheit:36.8\n",
      "Equivalent farenheit temp for entered celisius temp is: 98.24\n"
     ]
    }
   ],
   "source": [
    "#2.\tWrite a Python program to convert Celsius to Fahrenheit?\n",
    "c=float(input(\"enter celsius temp for converting into farenheit:\"))\n",
    "print(\"Equivalent farenheit temp for entered celisius temp is:\",1.8*c+32)"
   ]
  },
  {
   "cell_type": "code",
   "execution_count": null,
   "id": "153e0b81",
   "metadata": {},
   "outputs": [],
   "source": [
    "#3.\tWrite a Python program to display calendar?\n",
    "\n"
   ]
  },
  {
   "cell_type": "code",
   "execution_count": 26,
   "id": "1c939b8c",
   "metadata": {},
   "outputs": [
    {
     "name": "stdout",
     "output_type": "stream",
     "text": [
      "enter values for a in quodratic equation ax^2+bx+c=0:1\n",
      "enter values for b in quodratic equation ax^2+bx+c=0:2\n",
      "enter values for c in quodratic equation ax^2+bx+c=0:0\n",
      "The roots are: 0.0 -2.0\n"
     ]
    }
   ],
   "source": [
    "#4.\tWrite a Python program to solve quadratic equation?\n",
    "a=float(input(\"enter values for a in quodratic equation ax^2+bx+c=0:\"))\n",
    "b=float(input(\"enter values for b in quodratic equation ax^2+bx+c=0:\"))\n",
    "c=float(input(\"enter values for c in quodratic equation ax^2+bx+c=0:\"))\n",
    "root1=(-b+((b*b-4*a*c))**0.5)/2*a\n",
    "root2=(-b-((b*b-4*a*c))**0.5)/2*a\n",
    "print(\"The roots are:\",root1,root2)\n"
   ]
  },
  {
   "cell_type": "code",
   "execution_count": 4,
   "id": "95951dcc",
   "metadata": {},
   "outputs": [
    {
     "name": "stdout",
     "output_type": "stream",
     "text": [
      "4\n",
      "value in a before swap is: 4\n",
      "5\n",
      "Value in b before swap is: 5\n",
      "value in a after swap: 5\n",
      "value in b after swap: 4\n"
     ]
    }
   ],
   "source": [
    "#5.\tWrite a Python program to swap two variables without temp variable?\n",
    "a=int(input())\n",
    "print(\"value in a before swap is:\",a)\n",
    "b=int(input())\n",
    "print(\"Value in b before swap is:\",b)\n",
    "b=a+b\n",
    "a=b-a\n",
    "b=b-a\n",
    "print(\"value in a after swap:\",a)\n",
    "print(\"value in b after swap:\",b)\n"
   ]
  },
  {
   "cell_type": "code",
   "execution_count": null,
   "id": "6810fd50",
   "metadata": {},
   "outputs": [],
   "source": []
  }
 ],
 "metadata": {
  "kernelspec": {
   "display_name": "Python 3 (ipykernel)",
   "language": "python",
   "name": "python3"
  },
  "language_info": {
   "codemirror_mode": {
    "name": "ipython",
    "version": 3
   },
   "file_extension": ".py",
   "mimetype": "text/x-python",
   "name": "python",
   "nbconvert_exporter": "python",
   "pygments_lexer": "ipython3",
   "version": "3.9.7"
  }
 },
 "nbformat": 4,
 "nbformat_minor": 5
}
